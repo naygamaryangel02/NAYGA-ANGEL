{
 "cells": [
  {
   "cell_type": "code",
   "execution_count": 10,
   "id": "cf38e5c8-a4c6-44f1-ac04-5c2fd09e15a7",
   "metadata": {},
   "outputs": [
    {
     "name": "stdout",
     "output_type": "stream",
     "text": [
      "1. Area of Rectangle: 12\n"
     ]
    }
   ],
   "source": [
    "#SetA LAB1\n",
    "def calculate_area(length, width):\n",
    "    area = length * width\n",
    "    return area\n",
    "print(\"1. Area of Rectangle:\", calculate_area(4, 3))"
   ]
  },
  {
   "cell_type": "code",
   "execution_count": 12,
   "id": "abe2c421-d48c-4015-b6ce-8f4e8b90a656",
   "metadata": {},
   "outputs": [
    {
     "name": "stdout",
     "output_type": "stream",
     "text": [
      "2. Greeting (default): Hello, Alice!\n"
     ]
    }
   ],
   "source": [
    "def greet_user(name, greeting=\"Hello\"):\n",
    "    return f\"{greeting}, {name}!\"\n",
    "print(\"2. Greeting (default):\", greet_user(\"Alice\"))"
   ]
  },
  {
   "cell_type": "code",
   "execution_count": 14,
   "id": "14e4ebcf-915f-4d97-a000-2ebb2303ff70",
   "metadata": {},
   "outputs": [
    {
     "name": "stdout",
     "output_type": "stream",
     "text": [
      "3. Max value: 10\n"
     ]
    }
   ],
   "source": [
    "def find_max(*args):\n",
    "    if not args:\n",
    "        return None \n",
    "\n",
    "    max_value = args[0]\n",
    "    for num in args[1:]:\n",
    "        if num > max_value:\n",
    "            max_value = num\n",
    "    return max_value\n",
    "print(\"3. Max value:\", find_max(3, 10, 7, 2))"
   ]
  },
  {
   "cell_type": "code",
   "execution_count": 16,
   "id": "ff655a38-8092-4bb1-813d-b2e704b924ed",
   "metadata": {},
   "outputs": [
    {
     "name": "stdout",
     "output_type": "stream",
     "text": [
      "4. User Profile: {'first_name': 'Jane', 'last_name': 'Doe', 'age': 28, 'city': 'Paris', 'role': 'Engineer'}\n"
     ]
    }
   ],
   "source": [
    "def create_user_profile(first_name, last_name, **kwargs):\n",
    "    profile = {\n",
    "        \"first_name\": first_name,\n",
    "        \"last_name\": last_name\n",
    "    }\n",
    "    profile.update(kwargs)\n",
    "    return profile\n",
    "print(\"4. User Profile:\", create_user_profile(\"Jane\", \"Doe\", age=28, city=\"Paris\", role=\"Engineer\"))"
   ]
  }
 ],
 "metadata": {
  "kernelspec": {
   "display_name": "Python [conda env:base] *",
   "language": "python",
   "name": "conda-base-py"
  },
  "language_info": {
   "codemirror_mode": {
    "name": "ipython",
    "version": 3
   },
   "file_extension": ".py",
   "mimetype": "text/x-python",
   "name": "python",
   "nbconvert_exporter": "python",
   "pygments_lexer": "ipython3",
   "version": "3.12.7"
  }
 },
 "nbformat": 4,
 "nbformat_minor": 5
}
