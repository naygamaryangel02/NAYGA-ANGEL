{
 "cells": [
  {
   "cell_type": "code",
   "execution_count": 10,
   "id": "087e0cf3-ac78-43ff-8f15-e8a503a20677",
   "metadata": {},
   "outputs": [
    {
     "name": "stdin",
     "output_type": "stream",
     "text": [
      "Enter your full name (first and last):  angel nayga\n"
     ]
    },
    {
     "name": "stdout",
     "output_type": "stream",
     "text": [
      "First Name: Angel\n",
      "Last Name: Nayga\n"
     ]
    }
   ],
   "source": [
    "#SetA LAB2\n",
    "full_name = input(\"Enter your full name (first and last): \").strip()\n",
    "\n",
    "name_parts = full_name.split()\n",
    "\n",
    "first_name = name_parts[0].capitalize() if len(name_parts) > 0 else \"\"\n",
    "last_name = name_parts[-1].capitalize() if len(name_parts) > 1 else \"\"\n",
    "\n",
    "print(f\"First Name: {first_name}\")\n",
    "print(f\"Last Name: {last_name}\")"
   ]
  },
  {
   "cell_type": "code",
   "execution_count": 12,
   "id": "cdb9dfbb-f0d2-4112-a276-7520cf28068f",
   "metadata": {},
   "outputs": [
    {
     "name": "stdout",
     "output_type": "stream",
     "text": [
      "Generated File Name: angel_nayga_report_20241006.txt\n"
     ]
    }
   ],
   "source": [
    "timestamp = \"20241006\"\n",
    "file_name = f\"{first_name.lower()}_{last_name.lower()}_report_{timestamp}.txt\"\n",
    "print(\"Generated File Name:\", file_name)\n"
   ]
  },
  {
   "cell_type": "code",
   "execution_count": 20,
   "id": "85f56882-d064-4afb-976c-b24331cdd294",
   "metadata": {},
   "outputs": [
    {
     "name": "stdout",
     "output_type": "stream",
     "text": [
      "\n",
      "Password Validation Test:\n"
     ]
    },
    {
     "name": "stdin",
     "output_type": "stream",
     "text": [
      "Enter a password to test:  12345678l\n"
     ]
    },
    {
     "name": "stdout",
     "output_type": "stream",
     "text": [
      "Password is valid!\n"
     ]
    }
   ],
   "source": [
    "def is_valid_password(password):\n",
    "    if len(password) < 8:\n",
    "        return False\n",
    "    \n",
    "    has_digit = any(char.isdigit() for char in password)\n",
    "    return has_digit\n",
    "\n",
    "print(\"\\nPassword Validation Test:\")\n",
    "test_password = input(\"Enter a password to test: \")\n",
    "if is_valid_password(test_password):\n",
    "    print(\"Password is valid!\")\n",
    "else:\n",
    "    print(\"Password is invalid. Must be at least 8 chars and contain a digit.\")"
   ]
  },
  {
   "cell_type": "code",
   "execution_count": 26,
   "id": "7011b3ef-03e5-4c01-a7a2-9f3dd08419fc",
   "metadata": {},
   "outputs": [
    {
     "name": "stdout",
     "output_type": "stream",
     "text": [
      "\n",
      "Sentence Reversal Test:\n"
     ]
    },
    {
     "name": "stdin",
     "output_type": "stream",
     "text": [
      "Enter a sentence:  good job\n"
     ]
    },
    {
     "name": "stdout",
     "output_type": "stream",
     "text": [
      "Reversed Sentence: job good\n"
     ]
    }
   ],
   "source": [
    "def reverse_words(sentence):\n",
    "    words = sentence.split()\n",
    "    reversed_sentence = \" \".join(reversed(words))\n",
    "    return reversed_sentence\n",
    "\n",
    "print(\"\\nSentence Reversal Test:\")\n",
    "sentence = input(\"Enter a sentence: \")\n",
    "print(\"Reversed Sentence:\", reverse_words(sentence))"
   ]
  },
  {
   "cell_type": "code",
   "execution_count": null,
   "id": "36368876-d82b-4b74-a1b8-c0a3fc2b0971",
   "metadata": {},
   "outputs": [],
   "source": []
  }
 ],
 "metadata": {
  "kernelspec": {
   "display_name": "Python [conda env:base] *",
   "language": "python",
   "name": "conda-base-py"
  },
  "language_info": {
   "codemirror_mode": {
    "name": "ipython",
    "version": 3
   },
   "file_extension": ".py",
   "mimetype": "text/x-python",
   "name": "python",
   "nbconvert_exporter": "python",
   "pygments_lexer": "ipython3",
   "version": "3.12.7"
  }
 },
 "nbformat": 4,
 "nbformat_minor": 5
}
